{
 "cells": [
  {
   "cell_type": "code",
   "execution_count": 7,
   "metadata": {},
   "outputs": [
    {
     "name": "stdout",
     "output_type": "stream",
     "text": [
      "Requirement already satisfied: selenium in /home/portugal/anaconda3/lib/python3.12/site-packages (4.30.0)\n",
      "Requirement already satisfied: urllib3<3,>=1.26 in /home/portugal/anaconda3/lib/python3.12/site-packages (from urllib3[socks]<3,>=1.26->selenium) (2.2.3)\n",
      "Requirement already satisfied: trio~=0.17 in /home/portugal/anaconda3/lib/python3.12/site-packages (from selenium) (0.29.0)\n",
      "Requirement already satisfied: trio-websocket~=0.9 in /home/portugal/anaconda3/lib/python3.12/site-packages (from selenium) (0.12.2)\n",
      "Requirement already satisfied: certifi>=2021.10.8 in /home/portugal/anaconda3/lib/python3.12/site-packages (from selenium) (2025.1.31)\n",
      "Requirement already satisfied: typing_extensions~=4.9 in /home/portugal/anaconda3/lib/python3.12/site-packages (from selenium) (4.11.0)\n",
      "Requirement already satisfied: websocket-client~=1.8 in /home/portugal/anaconda3/lib/python3.12/site-packages (from selenium) (1.8.0)\n",
      "Requirement already satisfied: attrs>=23.2.0 in /home/portugal/anaconda3/lib/python3.12/site-packages (from trio~=0.17->selenium) (25.3.0)\n",
      "Requirement already satisfied: sortedcontainers in /home/portugal/anaconda3/lib/python3.12/site-packages (from trio~=0.17->selenium) (2.4.0)\n",
      "Requirement already satisfied: idna in /home/portugal/anaconda3/lib/python3.12/site-packages (from trio~=0.17->selenium) (3.7)\n",
      "Requirement already satisfied: outcome in /home/portugal/anaconda3/lib/python3.12/site-packages (from trio~=0.17->selenium) (1.3.0.post0)\n",
      "Requirement already satisfied: sniffio>=1.3.0 in /home/portugal/anaconda3/lib/python3.12/site-packages (from trio~=0.17->selenium) (1.3.0)\n",
      "Requirement already satisfied: wsproto>=0.14 in /home/portugal/anaconda3/lib/python3.12/site-packages (from trio-websocket~=0.9->selenium) (1.2.0)\n",
      "Requirement already satisfied: pysocks!=1.5.7,<2.0,>=1.5.6 in /home/portugal/anaconda3/lib/python3.12/site-packages (from urllib3[socks]<3,>=1.26->selenium) (1.7.1)\n",
      "Requirement already satisfied: h11<1,>=0.9.0 in /home/portugal/anaconda3/lib/python3.12/site-packages (from wsproto>=0.14->trio-websocket~=0.9->selenium) (0.14.0)\n",
      "Requirement already satisfied: chromedriver-py in /home/portugal/anaconda3/lib/python3.12/site-packages (135.0.7049.42)\n"
     ]
    }
   ],
   "source": [
    "!pip install selenium\n",
    "!pip install chromedriver-py"
   ]
  },
  {
   "cell_type": "code",
   "execution_count": 8,
   "metadata": {},
   "outputs": [
    {
     "ename": "ModuleNotFoundError",
     "evalue": "No module named 'selenium'",
     "output_type": "error",
     "traceback": [
      "\u001b[31m---------------------------------------------------------------------------\u001b[39m",
      "\u001b[31mModuleNotFoundError\u001b[39m                       Traceback (most recent call last)",
      "\u001b[36mCell\u001b[39m\u001b[36m \u001b[39m\u001b[32mIn[8]\u001b[39m\u001b[32m, line 1\u001b[39m\n\u001b[32m----> \u001b[39m\u001b[32m1\u001b[39m \u001b[38;5;28;01mfrom\u001b[39;00m\u001b[38;5;250m \u001b[39m\u001b[34;01mselenium\u001b[39;00m\u001b[38;5;250m \u001b[39m\u001b[38;5;28;01mimport\u001b[39;00m webdriver\n\u001b[32m      2\u001b[39m \u001b[38;5;28;01mfrom\u001b[39;00m\u001b[38;5;250m \u001b[39m\u001b[34;01mselenium\u001b[39;00m\u001b[34;01m.\u001b[39;00m\u001b[34;01mwebdriver\u001b[39;00m\u001b[34;01m.\u001b[39;00m\u001b[34;01mchrome\u001b[39;00m\u001b[34;01m.\u001b[39;00m\u001b[34;01mservice\u001b[39;00m\u001b[38;5;250m \u001b[39m\u001b[38;5;28;01mimport\u001b[39;00m Service\n\u001b[32m      3\u001b[39m \u001b[38;5;28;01mfrom\u001b[39;00m\u001b[38;5;250m \u001b[39m\u001b[34;01mwebdriver_manager\u001b[39;00m\u001b[34;01m.\u001b[39;00m\u001b[34;01mchrome\u001b[39;00m\u001b[38;5;250m \u001b[39m\u001b[38;5;28;01mimport\u001b[39;00m ChromeDriverManager\n",
      "\u001b[31mModuleNotFoundError\u001b[39m: No module named 'selenium'"
     ]
    }
   ],
   "source": [
    "from selenium import webdriver\n",
    "from selenium.webdriver.chrome.service import Service\n",
    "from webdriver_manager.chrome import ChromeDriverManager\n",
    "from selenium.webdriver.common.by import By\n",
    "from selenium.webdriver.common.keys import Keys\n",
    "from time import sleep\n",
    "\n",
    "service = Service(ChromeDriverManager().install())\n",
    "nav = webdriver.Chrome(service=service)"
   ]
  },
  {
   "cell_type": "code",
   "execution_count": 1,
   "metadata": {},
   "outputs": [
    {
     "name": "stdout",
     "output_type": "stream",
     "text": [
      "file:///home/portugal/Documentos/Projects/GitHub/JusSearch\n",
      "file:///home/portugal/Documentos/Projects/GitHub/JusSearch/templates/index_processo.html\n"
     ]
    },
    {
     "ename": "NameError",
     "evalue": "name 'nav' is not defined",
     "output_type": "error",
     "traceback": [
      "\u001b[31m---------------------------------------------------------------------------\u001b[39m",
      "\u001b[31mNameError\u001b[39m                                 Traceback (most recent call last)",
      "\u001b[36mCell\u001b[39m\u001b[36m \u001b[39m\u001b[32mIn[1]\u001b[39m\u001b[32m, line 7\u001b[39m\n\u001b[32m      5\u001b[39m archive = caminho + \u001b[33m'\u001b[39m\u001b[33m/templates/index_processo.html\u001b[39m\u001b[33m'\u001b[39m\n\u001b[32m      6\u001b[39m \u001b[38;5;28mprint\u001b[39m(archive)\n\u001b[32m----> \u001b[39m\u001b[32m7\u001b[39m \u001b[43mnav\u001b[49m.get(archive)\n",
      "\u001b[31mNameError\u001b[39m: name 'nav' is not defined"
     ]
    }
   ],
   "source": [
    "import os\n",
    "\n",
    "caminho = 'file://' + os.getcwd() \n",
    "print(caminho)\n",
    "archive = caminho + '/templates/index_processo.html'\n",
    "print(archive)\n",
    "nav.get(archive)"
   ]
  },
  {
   "cell_type": "code",
   "execution_count": null,
   "metadata": {},
   "outputs": [
    {
     "data": {
      "text/html": [
       "<div>\n",
       "<style scoped>\n",
       "    .dataframe tbody tr th:only-of-type {\n",
       "        vertical-align: middle;\n",
       "    }\n",
       "\n",
       "    .dataframe tbody tr th {\n",
       "        vertical-align: top;\n",
       "    }\n",
       "\n",
       "    .dataframe thead th {\n",
       "        text-align: right;\n",
       "    }\n",
       "</style>\n",
       "<table border=\"1\" class=\"dataframe\">\n",
       "  <thead>\n",
       "    <tr style=\"text-align: right;\">\n",
       "      <th></th>\n",
       "      <th>Nome</th>\n",
       "      <th>Advogado</th>\n",
       "      <th>Processo</th>\n",
       "      <th>Cidade</th>\n",
       "      <th>Status</th>\n",
       "    </tr>\n",
       "  </thead>\n",
       "  <tbody>\n",
       "    <tr>\n",
       "      <th>0</th>\n",
       "      <td>Lira</td>\n",
       "      <td>Alon Lawyer</td>\n",
       "      <td>PC6592</td>\n",
       "      <td>Distrito Federal</td>\n",
       "      <td>nan</td>\n",
       "    </tr>\n",
       "    <tr>\n",
       "      <th>1</th>\n",
       "      <td>João</td>\n",
       "      <td>Lawyer Alon</td>\n",
       "      <td>EB3792</td>\n",
       "      <td>Rio de Janeiro</td>\n",
       "      <td>nan</td>\n",
       "    </tr>\n",
       "    <tr>\n",
       "      <th>2</th>\n",
       "      <td>Amanda</td>\n",
       "      <td>Amanda mesmo</td>\n",
       "      <td>MM1043</td>\n",
       "      <td>Rio de Janeiro</td>\n",
       "      <td>nan</td>\n",
       "    </tr>\n",
       "    <tr>\n",
       "      <th>3</th>\n",
       "      <td>Carol</td>\n",
       "      <td>Amanda</td>\n",
       "      <td>PC5197</td>\n",
       "      <td>São Paulo</td>\n",
       "      <td>nan</td>\n",
       "    </tr>\n",
       "  </tbody>\n",
       "</table>\n",
       "</div>"
      ],
      "text/plain": [
       "     Nome      Advogado Processo            Cidade Status\n",
       "0    Lira   Alon Lawyer   PC6592  Distrito Federal    nan\n",
       "1    João   Lawyer Alon   EB3792    Rio de Janeiro    nan\n",
       "2  Amanda  Amanda mesmo   MM1043    Rio de Janeiro    nan\n",
       "3   Carol        Amanda   PC5197         São Paulo    nan"
      ]
     },
     "metadata": {},
     "output_type": "display_data"
    }
   ],
   "source": [
    "import pandas as pd\n",
    "import os\n",
    "\n",
    "caminho_arquivo = os.path.join(os.getcwd(), 'data')\n",
    "processos = pd.read_excel(caminho_arquivo + '/Processos.xlsx')\n",
    "\n",
    "processos['Status'] = processos['Status'].astype(str)\n",
    "display(processos)\n",
    "\n",
    "df_nome = processos['Nome'][0]\n",
    "df_advogado = processos['Advogado'][0]\n",
    "df_processo = processos['Processo'][0]\n",
    "df_cidade = processos['Cidade'][0]\n",
    "df_status = processos['Status'][0]"
   ]
  },
  {
   "cell_type": "code",
   "execution_count": null,
   "metadata": {},
   "outputs": [
    {
     "name": "stdout",
     "output_type": "stream",
     "text": [
      "Vamos buscar no nosso banco de dados, por favor aguarde. Pode durar alguns minutos.\n",
      "Vamos buscar no nosso banco de dados, por favor aguarde. Pode durar alguns minutos.\n",
      "Vamos buscar no nosso banco de dados, por favor aguarde. Pode durar alguns minutos.\n",
      "Vamos buscar no nosso banco de dados, por favor aguarde. Pode durar alguns minutos.\n",
      "Vamos buscar no nosso banco de dados, por favor aguarde. Pode durar alguns minutos.\n",
      "Vamos buscar no nosso banco de dados, por favor aguarde. Pode durar alguns minutos.\n",
      "Vamos buscar no nosso banco de dados, por favor aguarde. Pode durar alguns minutos.\n",
      "Vamos buscar no nosso banco de dados, por favor aguarde. Pode durar alguns minutos.\n"
     ]
    }
   ],
   "source": [
    "from selenium.webdriver import ActionChains\n",
    "\n",
    "# Para cada processo\n",
    "nav.get(archive)\n",
    "\n",
    "for linha in processos.index:\n",
    "\n",
    "    cidade = processos.loc[linha, 'Cidade']        \n",
    "    sleep(1)\n",
    "    escolha_estado = nav.find_element(By.CLASS_NAME, 'dropdown-menu')\n",
    "    ActionChains(nav).move_to_element(escolha_estado).perform()\n",
    "\n",
    "\n",
    "    sleep(1)\n",
    "    nav.find_element(By.PARTIAL_LINK_TEXT, cidade).click()\n",
    "\n",
    "    # Abas \n",
    "    index_aba = nav.window_handles[0]\n",
    "\n",
    "    registro_aba = nav.window_handles[1]\n",
    "\n",
    "    nav.switch_to.window(registro_aba)\n",
    "\n",
    "    nome_da_parte = nav.find_element(By.ID, 'nome').send_keys(processos.loc[linha, \"Nome\"])\n",
    "    advogado = nav.find_element(By.ID, 'advogado').send_keys(processos.loc[linha, 'Advogado'])\n",
    "    num_processo = nav.find_element(By.ID, 'numero').send_keys(processos.loc[linha, 'Processo'])\n",
    "    \n",
    "\n",
    "    pesquisar = nav.find_element(By.CLASS_NAME, 'registerbtn')\n",
    "    sleep(0.3)\n",
    "    pesquisar.click()\n",
    "\n",
    "    alerta = nav.switch_to.alert\n",
    "    mensagem_alerta = alerta.text\n",
    "    print(mensagem_alerta)\n",
    "    alerta.accept()\n",
    "\n",
    "    while True:\n",
    "        try:\n",
    "            alerta = nav.switch_to.alert\n",
    "            break\n",
    "        except:\n",
    "            sleep(1)\n",
    "    print(mensagem_alerta)\n",
    "        \n",
    "    if 'Processo encontrado com sucesso' in mensagem_alerta:\n",
    "        sleep(2)\n",
    "        print('Processo encontrado com sucesso!')\n",
    "        alerta.accept()\n",
    "        processos.loc[linha, 'Status'] = 'Encontrado'\n",
    "        print('accept')\n",
    "        alerta.accept()\n",
    "        nav.close()\n",
    "    else:\n",
    "        sleep(2)\n",
    "        processos.loc[linha, 'Status'] = 'Não encontrado'\n",
    "        alerta.accept()\n",
    "        nav.close()\n",
    "    sleep(1)\n",
    "\n",
    "    nav.switch_to.window(index_aba)\n",
    "\n"
   ]
  },
  {
   "cell_type": "code",
   "execution_count": null,
   "metadata": {},
   "outputs": [
    {
     "data": {
      "text/html": [
       "<div>\n",
       "<style scoped>\n",
       "    .dataframe tbody tr th:only-of-type {\n",
       "        vertical-align: middle;\n",
       "    }\n",
       "\n",
       "    .dataframe tbody tr th {\n",
       "        vertical-align: top;\n",
       "    }\n",
       "\n",
       "    .dataframe thead th {\n",
       "        text-align: right;\n",
       "    }\n",
       "</style>\n",
       "<table border=\"1\" class=\"dataframe\">\n",
       "  <thead>\n",
       "    <tr style=\"text-align: right;\">\n",
       "      <th></th>\n",
       "      <th>Nome</th>\n",
       "      <th>Advogado</th>\n",
       "      <th>Processo</th>\n",
       "      <th>Cidade</th>\n",
       "      <th>Status</th>\n",
       "    </tr>\n",
       "  </thead>\n",
       "  <tbody>\n",
       "    <tr>\n",
       "      <th>0</th>\n",
       "      <td>Lira</td>\n",
       "      <td>Alon Lawyer</td>\n",
       "      <td>PC6592</td>\n",
       "      <td>Distrito Federal</td>\n",
       "      <td>Não encontrado</td>\n",
       "    </tr>\n",
       "    <tr>\n",
       "      <th>1</th>\n",
       "      <td>João</td>\n",
       "      <td>Lawyer Alon</td>\n",
       "      <td>EB3792</td>\n",
       "      <td>Rio de Janeiro</td>\n",
       "      <td>Não encontrado</td>\n",
       "    </tr>\n",
       "    <tr>\n",
       "      <th>2</th>\n",
       "      <td>Amanda</td>\n",
       "      <td>Amanda mesmo</td>\n",
       "      <td>MM1043</td>\n",
       "      <td>Rio de Janeiro</td>\n",
       "      <td>Não encontrado</td>\n",
       "    </tr>\n",
       "    <tr>\n",
       "      <th>3</th>\n",
       "      <td>Carol</td>\n",
       "      <td>Amanda</td>\n",
       "      <td>PC5197</td>\n",
       "      <td>São Paulo</td>\n",
       "      <td>Não encontrado</td>\n",
       "    </tr>\n",
       "  </tbody>\n",
       "</table>\n",
       "</div>"
      ],
      "text/plain": [
       "     Nome      Advogado Processo            Cidade          Status\n",
       "0    Lira   Alon Lawyer   PC6592  Distrito Federal  Não encontrado\n",
       "1    João   Lawyer Alon   EB3792    Rio de Janeiro  Não encontrado\n",
       "2  Amanda  Amanda mesmo   MM1043    Rio de Janeiro  Não encontrado\n",
       "3   Carol        Amanda   PC5197         São Paulo  Não encontrado"
      ]
     },
     "metadata": {},
     "output_type": "display_data"
    }
   ],
   "source": [
    "display(processos)"
   ]
  },
  {
   "cell_type": "markdown",
   "metadata": {},
   "source": [
    "---\n",
    "## Finalizações\n",
    "\n",
    "---\n",
    "\n",
    "- Com isso concluo por aqui ( por enquanto ). Espero em um futuro breve trazer mais atualizações de Scrapping com Selenium e WebDriverManager\n",
    "\n",
    "### [Volte para a página principal do repositório e de uma estrela](https://github.com/guilhptg/JusSearch)\n",
    "\n",
    "---"
   ]
  }
 ],
 "metadata": {
  "kernelspec": {
   "display_name": "Python 3",
   "language": "python",
   "name": "python3"
  },
  "language_info": {
   "codemirror_mode": {
    "name": "ipython",
    "version": 3
   },
   "file_extension": ".py",
   "mimetype": "text/x-python",
   "name": "python",
   "nbconvert_exporter": "python",
   "pygments_lexer": "ipython3",
   "version": "3.11.2"
  }
 },
 "nbformat": 4,
 "nbformat_minor": 2
}
